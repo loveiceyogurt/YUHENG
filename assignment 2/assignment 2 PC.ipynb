{
 "cells": [
  {
   "cell_type": "code",
   "execution_count": 6,
   "metadata": {},
   "outputs": [
    {
     "name": "stdout",
     "output_type": "stream",
     "text": [
      "<class 'pandas.core.frame.DataFrame'>\n",
      "RangeIndex: 5111 entries, 0 to 5110\n",
      "Data columns (total 33 columns):\n",
      " #   Column                  Non-Null Count  Dtype  \n",
      "---  ------                  --------------  -----  \n",
      " 0   region                  5111 non-null   object \n",
      " 1   country                 5111 non-null   object \n",
      " 2   sex                     5111 non-null   object \n",
      " 3   age                     5111 non-null   object \n",
      " 4   height                  5111 non-null   float64\n",
      " 5   weight                  5111 non-null   int64  \n",
      " 6   blood_type              5111 non-null   object \n",
      " 7   insurance               5111 non-null   object \n",
      " 8   income                  5111 non-null   object \n",
      " 9   race                    5111 non-null   object \n",
      " 10  immigrant               5111 non-null   object \n",
      " 11  smoking                 5111 non-null   object \n",
      " 12  contacts_count          5111 non-null   float64\n",
      " 13  house_count             5111 non-null   int64  \n",
      " 14  public_transport_count  5111 non-null   int64  \n",
      " 15  working                 5111 non-null   object \n",
      " 16  worried                 5111 non-null   int64  \n",
      " 17  covid19_positive        5111 non-null   int64  \n",
      " 18  covid19_symptoms        5111 non-null   int64  \n",
      " 19  covid19_contact         5111 non-null   int64  \n",
      " 20  asthma                  5111 non-null   int64  \n",
      " 21  kidney_disease          5111 non-null   int64  \n",
      " 22  liver_disease           5111 non-null   int64  \n",
      " 23  compromised_immune      5111 non-null   int64  \n",
      " 24  heart_disease           5111 non-null   int64  \n",
      " 25  lung_disease            5111 non-null   int64  \n",
      " 26  diabetes                5111 non-null   int64  \n",
      " 27  hiv_positive            5111 non-null   int64  \n",
      " 28  hypertension            5111 non-null   int64  \n",
      " 29  other_chronic           5111 non-null   int64  \n",
      " 30  nursing_home            5111 non-null   int64  \n",
      " 31  health_worker           5111 non-null   int64  \n",
      " 32  risk_mortality          5111 non-null   float64\n",
      "dtypes: float64(3), int64(19), object(11)\n",
      "memory usage: 1.3+ MB\n"
     ]
    }
   ],
   "source": [
    "import numpy as np\n",
    "import pandas as pd\n",
    "from sklearn.model_selection import train_test_split\n",
    "import numpy as np\n",
    "df = pd.read_csv('D3.csv')\n",
    "df.info()"
   ]
  },
  {
   "cell_type": "code",
   "execution_count": 7,
   "metadata": {},
   "outputs": [],
   "source": [
    " df[\"height\"] = df[\"height\"].dropna().astype(int)\n",
    " df['insurance']=df['insurance'].astype(bool)\n",
    " df[\"immigrant\"]=df[\"immigrant\"].astype(bool)\n",
    " df[\"contacts_count\"] = df[\"contacts_count\"].dropna().astype(int)\n",
    " df[\"risk_mortality\"] = df[\"risk_mortality\"].dropna().astype(int)\n",
    " df[\"covid19_positive\"]=df[\"covid19_positive\"].astype(bool)\n",
    " df[\"covid19_symptoms\"]=df[\"covid19_symptoms\"].astype(bool)\n",
    " df[\"covid19_contact\"]=df[\"covid19_contact\"].astype(bool)\n",
    " df[\"asthma\"]=df[\"asthma\"].astype(bool)\n",
    " df[\"kidney_disease\"]=df[\"kidney_disease\"].astype(bool)\n",
    " df[\"liver_disease\"]=df[\"liver_disease\"].astype(bool)\n",
    " df[\"compromised_immune\"]=df[\"compromised_immune\"].astype(bool)\n",
    " df[\"heart_disease\"]=df[\"heart_disease\"].astype(bool)\n",
    " df[\"lung_disease\"]=df[\"lung_disease\"].astype(bool)\n",
    " df[\"diabetes\"]=df[\"diabetes\"].astype(bool)\n",
    " df[\"hiv_positive\"]=df[\"hiv_positive\"].astype(bool)\n",
    " df[\"hypertension\"]=df[\"hypertension\"].astype(bool)\n",
    " df[\"other_chronic\"]=df[\"other_chronic\"].astype(bool)\n",
    " df[\"nursing_home\"]=df[\"nursing_home\"].astype(bool)\n",
    " df[\"health_worker\"]=df[\"health_worker\"].astype(bool)"
   ]
  },
  {
   "cell_type": "code",
   "execution_count": 9,
   "metadata": {},
   "outputs": [
    {
     "data": {
      "text/plain": [
       "['height',\n",
       " 'weight',\n",
       " 'insurance',\n",
       " 'immigrant',\n",
       " 'contacts_count',\n",
       " 'house_count',\n",
       " 'public_transport_count',\n",
       " 'worried',\n",
       " 'covid19_positive',\n",
       " 'covid19_symptoms',\n",
       " 'covid19_contact',\n",
       " 'asthma',\n",
       " 'kidney_disease',\n",
       " 'liver_disease',\n",
       " 'compromised_immune',\n",
       " 'heart_disease',\n",
       " 'lung_disease',\n",
       " 'diabetes',\n",
       " 'hiv_positive',\n",
       " 'hypertension',\n",
       " 'other_chronic',\n",
       " 'nursing_home',\n",
       " 'health_worker',\n",
       " 'risk_mortality']"
      ]
     },
     "execution_count": 9,
     "metadata": {},
     "output_type": "execute_result"
    }
   ],
   "source": [
    "df_categorical= [i for i in df.columns\n",
    "                       if df[i].dtype.name == 'object']\n",
    "df_numerical = [i for i in df.columns\n",
    "                     if df[i].dtype.name != 'object']"
   ]
  },
  {
   "cell_type": "code",
   "execution_count": 10,
   "metadata": {},
   "outputs": [
    {
     "data": {
      "text/plain": [
       "['region',\n",
       " 'country',\n",
       " 'sex',\n",
       " 'age',\n",
       " 'blood_type',\n",
       " 'income',\n",
       " 'race',\n",
       " 'smoking',\n",
       " 'working']"
      ]
     },
     "execution_count": 10,
     "metadata": {},
     "output_type": "execute_result"
    }
   ],
   "source": [
    "df_categorical"
   ]
  },
  {
   "cell_type": "code",
   "execution_count": 11,
   "metadata": {},
   "outputs": [
    {
     "data": {
      "text/plain": [
       "['height',\n",
       " 'weight',\n",
       " 'insurance',\n",
       " 'immigrant',\n",
       " 'contacts_count',\n",
       " 'house_count',\n",
       " 'public_transport_count',\n",
       " 'worried',\n",
       " 'covid19_positive',\n",
       " 'covid19_symptoms',\n",
       " 'covid19_contact',\n",
       " 'asthma',\n",
       " 'kidney_disease',\n",
       " 'liver_disease',\n",
       " 'compromised_immune',\n",
       " 'heart_disease',\n",
       " 'lung_disease',\n",
       " 'diabetes',\n",
       " 'hiv_positive',\n",
       " 'hypertension',\n",
       " 'other_chronic',\n",
       " 'nursing_home',\n",
       " 'health_worker',\n",
       " 'risk_mortality']"
      ]
     },
     "execution_count": 11,
     "metadata": {},
     "output_type": "execute_result"
    }
   ],
   "source": [
    "df_numerical"
   ]
  },
  {
   "cell_type": "code",
   "execution_count": 12,
   "metadata": {},
   "outputs": [],
   "source": [
    "df_tree = pd.concat([df[df_numerical],\n",
    "                        pd.get_dummies(df[df_categorical])], axis=1)"
   ]
  },
  {
   "cell_type": "code",
   "execution_count": 13,
   "metadata": {},
   "outputs": [
    {
     "data": {
      "text/plain": [
       "(5111, 167)"
      ]
     },
     "execution_count": 13,
     "metadata": {},
     "output_type": "execute_result"
    }
   ],
   "source": [
    "df_tree.shape"
   ]
  },
  {
   "cell_type": "code",
   "execution_count": 15,
   "metadata": {},
   "outputs": [],
   "source": [
    "from sklearn import tree\n",
    "from sklearn.model_selection import train_test_split"
   ]
  },
  {
   "cell_type": "code",
   "execution_count": 16,
   "metadata": {},
   "outputs": [],
   "source": [
    "df_x = df_tree.drop(['covid19_positive'], axis=1)\n",
    "df_y = df_tree['covid19_positive']"
   ]
  },
  {
   "cell_type": "code",
   "execution_count": 17,
   "metadata": {},
   "outputs": [],
   "source": [
    "X_train, X_test, Y_train, Y_test = train_test_split(df_x,df_y,test_size=0.3)"
   ]
  },
  {
   "cell_type": "code",
   "execution_count": 19,
   "metadata": {},
   "outputs": [
    {
     "data": {
      "text/plain": [
       "DecisionTreeClassifier(ccp_alpha=0.0, class_weight=None, criterion='gini',\n",
       "                       max_depth=None, max_features=None, max_leaf_nodes=None,\n",
       "                       min_impurity_decrease=0.0, min_impurity_split=None,\n",
       "                       min_samples_leaf=1, min_samples_split=2,\n",
       "                       min_weight_fraction_leaf=0.0, presort='deprecated',\n",
       "                       random_state=10, splitter='best')"
      ]
     },
     "execution_count": 19,
     "metadata": {},
     "output_type": "execute_result"
    }
   ],
   "source": [
    "from sklearn.tree import DecisionTreeClassifier\n",
    "from sklearn.metrics import classification_report, accuracy_score\n",
    "\n",
    "rs = 10\n",
    "# simple decision tree training\n",
    "model = DecisionTreeClassifier(random_state=rs)\n",
    "model.fit(X_train, Y_train)"
   ]
  },
  {
   "cell_type": "code",
   "execution_count": 20,
   "metadata": {},
   "outputs": [
    {
     "name": "stdout",
     "output_type": "stream",
     "text": [
      "Train accuracy: 1.0\n"
     ]
    }
   ],
   "source": [
    "print(\"Train accuracy:\", model.score(X_train, Y_train))"
   ]
  },
  {
   "cell_type": "code",
   "execution_count": 21,
   "metadata": {},
   "outputs": [
    {
     "name": "stdout",
     "output_type": "stream",
     "text": [
      "Test accuracy: 0.7698826597131682\n"
     ]
    }
   ],
   "source": [
    "print(\"Test accuracy:\", model.score(X_test, Y_test))"
   ]
  },
  {
   "cell_type": "code",
   "execution_count": 22,
   "metadata": {},
   "outputs": [
    {
     "name": "stdout",
     "output_type": "stream",
     "text": [
      "              precision    recall  f1-score   support\n",
      "\n",
      "       False       0.81      0.83      0.82       972\n",
      "        True       0.69      0.66      0.68       562\n",
      "\n",
      "    accuracy                           0.77      1534\n",
      "   macro avg       0.75      0.75      0.75      1534\n",
      "weighted avg       0.77      0.77      0.77      1534\n",
      "\n"
     ]
    }
   ],
   "source": [
    "y_pred = model.predict(X_test)\n",
    "print(classification_report(Y_test, y_pred))"
   ]
  },
  {
   "cell_type": "code",
   "execution_count": 24,
   "metadata": {},
   "outputs": [
    {
     "name": "stdout",
     "output_type": "stream",
     "text": [
      "covid19_symptoms : 0.19277866095919258\n",
      "income_med : 0.09599797103623164\n",
      "weight : 0.08581677002851301\n",
      "worried : 0.06837923390962179\n",
      "contacts_count : 0.04463037285922635\n",
      "house_count : 0.03531074474914023\n",
      "working_travel critical : 0.03151505640968074\n",
      "height : 0.02128082676743954\n",
      "race_white : 0.01803338627448678\n",
      "risk_mortality : 0.015878619510905672\n",
      "health_worker : 0.01434357315150639\n",
      "nursing_home : 0.014184882102187886\n",
      "public_transport_count : 0.013619162065754543\n",
      "working_stopped : 0.012436437765730059\n",
      "compromised_immune : 0.01225937910823499\n",
      "smoking_never : 0.011753732520481504\n",
      "blood_type_op : 0.01143047926636301\n",
      "working_never : 0.01141278657803941\n",
      "age_30_40 : 0.011366531321465872\n",
      "age_60_70 : 0.010491474608316708\n"
     ]
    }
   ],
   "source": [
    "importances = model.feature_importances_\n",
    "feature_names = df_x.columns\n",
    "\n",
    "# sort them out in descending order\n",
    "indices = np.argsort(importances)\n",
    "indices = np.flip(indices, axis=0)\n",
    "\n",
    "# limit to 20 features, you can leave this out to print out everything\n",
    "indices = indices[:20]\n",
    "\n",
    "for i in indices:\n",
    "    print(feature_names[i], ':', importances[i])"
   ]
  },
  {
   "cell_type": "code",
   "execution_count": 30,
   "metadata": {},
   "outputs": [
    {
     "name": "stdout",
     "output_type": "stream",
     "text": [
      "Train accuracy: 0.759575062901873\n",
      "Test accuracy: 0.772490221642764\n",
      "              precision    recall  f1-score   support\n",
      "\n",
      "       False       0.87      0.75      0.81       972\n",
      "        True       0.65      0.81      0.72       562\n",
      "\n",
      "    accuracy                           0.77      1534\n",
      "   macro avg       0.76      0.78      0.76      1534\n",
      "weighted avg       0.79      0.77      0.78      1534\n",
      "\n"
     ]
    }
   ],
   "source": [
    "import pydot\n",
    "from io import StringIO\n",
    "from sklearn.tree import export_graphviz\n",
    "\n",
    "# visualize\n",
    "model_small = DecisionTreeClassifier(max_depth=3, random_state=rs)\n",
    "model_small.fit(X_train, Y_train)\n",
    "\n",
    "print(\"Train accuracy:\", model_small.score(X_train, Y_train))\n",
    "print(\"Test accuracy:\", model_small.score(X_test, Y_test))\n",
    "\n",
    "y_pred = model_small.predict(X_test)\n",
    "print(classification_report(Y_test, y_pred))"
   ]
  },
  {
   "cell_type": "code",
   "execution_count": 26,
   "metadata": {},
   "outputs": [
    {
     "name": "stdout",
     "output_type": "stream",
     "text": [
      "Collecting pydot\n",
      "  Downloading pydot-1.4.1-py2.py3-none-any.whl (19 kB)\n",
      "Requirement already satisfied: pyparsing>=2.1.4 in d:\\anaconda\\lib\\site-packages (from pydot) (2.4.6)\n",
      "Installing collected packages: pydot\n",
      "Successfully installed pydot-1.4.1\n",
      "Note: you may need to restart the kernel to use updated packages.\n"
     ]
    }
   ],
   "source": [
    "pip install pydot"
   ]
  },
  {
   "cell_type": "code",
   "execution_count": 31,
   "metadata": {},
   "outputs": [],
   "source": [
    "from sklearn.model_selection import GridSearchCV"
   ]
  },
  {
   "cell_type": "code",
   "execution_count": 33,
   "metadata": {},
   "outputs": [
    {
     "name": "stdout",
     "output_type": "stream",
     "text": [
      "{'mean_fit_time': array([0.02732251, 0.02316608, 0.02345836, 0.0233556 , 0.02595944,\n",
      "       0.02573459, 0.02754118, 0.02635796, 0.02883139, 0.02778089,\n",
      "       0.0278137 , 0.02833908, 0.02988758, 0.03007019, 0.0301609 ,\n",
      "       0.03057625, 0.03338196, 0.03217216, 0.0318912 , 0.03150239,\n",
      "       0.03404322, 0.03404748, 0.03342037, 0.03322802, 0.03596859,\n",
      "       0.03589785, 0.03512642, 0.03498602, 0.03746736, 0.03691719,\n",
      "       0.03679976, 0.03616853, 0.03884945, 0.03850608, 0.03769882,\n",
      "       0.03780813, 0.03955483, 0.0393995 , 0.03786941, 0.0370652 ,\n",
      "       0.04151981, 0.04039993, 0.03849192, 0.04057825, 0.04378648,\n",
      "       0.04212925, 0.0397002 , 0.03894601, 0.04372983, 0.04303904,\n",
      "       0.0403492 , 0.0392065 , 0.04617841, 0.04371026, 0.04117875,\n",
      "       0.03935716, 0.0456332 , 0.04255915, 0.04013948, 0.03924775]), 'std_fit_time': array([0.01051693, 0.00039621, 0.00120768, 0.00049493, 0.00111309,\n",
      "       0.00039893, 0.00551924, 0.00066778, 0.00167938, 0.00040965,\n",
      "       0.0005483 , 0.00194465, 0.00044803, 0.00088177, 0.00073509,\n",
      "       0.0014623 , 0.00086093, 0.00075135, 0.00064246, 0.00069299,\n",
      "       0.00033898, 0.00117924, 0.00046005, 0.00063243, 0.00025824,\n",
      "       0.00056735, 0.00030736, 0.00114059, 0.00047513, 0.00056089,\n",
      "       0.000488  , 0.00038878, 0.0006736 , 0.00041205, 0.00075634,\n",
      "       0.00112835, 0.00063818, 0.00077229, 0.00089126, 0.00053873,\n",
      "       0.00046346, 0.0004816 , 0.00099831, 0.00298325, 0.00121936,\n",
      "       0.00110115, 0.00059671, 0.00062509, 0.00037839, 0.00077775,\n",
      "       0.00104599, 0.00055259, 0.00203669, 0.00039244, 0.00104272,\n",
      "       0.0004711 , 0.00116658, 0.00058285, 0.00118679, 0.00059606]), 'mean_score_time': array([0.00239806, 0.00248272, 0.00269575, 0.00230253, 0.00239491,\n",
      "       0.0023941 , 0.00249801, 0.00271027, 0.00269806, 0.00249333,\n",
      "       0.00219214, 0.00229399, 0.00248961, 0.00218878, 0.00209703,\n",
      "       0.0025043 , 0.00269225, 0.00269265, 0.0021894 , 0.00259438,\n",
      "       0.00269079, 0.00218673, 0.00219753, 0.00259964, 0.00249226,\n",
      "       0.00229318, 0.00209608, 0.00249178, 0.0021925 , 0.00239341,\n",
      "       0.00253456, 0.0027112 , 0.00219481, 0.00239704, 0.00229855,\n",
      "       0.00269294, 0.00257542, 0.00218706, 0.00259242, 0.00232363,\n",
      "       0.00279007, 0.00234222, 0.00250483, 0.00246255, 0.00249579,\n",
      "       0.00249021, 0.00259726, 0.00260088, 0.00249825, 0.00249965,\n",
      "       0.00250056, 0.00269291, 0.00259519, 0.00234172, 0.00250046,\n",
      "       0.00248976, 0.00264618, 0.00284448, 0.00239062, 0.00239425]), 'std_score_time': array([0.00048458, 0.00049583, 0.00046076, 0.00045315, 0.00048756,\n",
      "       0.00048836, 0.00050352, 0.00044098, 0.00046295, 0.0005006 ,\n",
      "       0.00040067, 0.00045761, 0.00049452, 0.00038043, 0.00029834,\n",
      "       0.00044593, 0.00045599, 0.00045688, 0.00040049, 0.00049018,\n",
      "       0.00045748, 0.00040271, 0.00039745, 0.00049408, 0.00050106,\n",
      "       0.00045336, 0.00029878, 0.00049727, 0.00039901, 0.00049053,\n",
      "       0.00046904, 0.00046739, 0.0004036 , 0.00048877, 0.00046035,\n",
      "       0.00045751, 0.00047861, 0.00040353, 0.00048706, 0.00049556,\n",
      "       0.00039693, 0.00044992, 0.00051069, 0.00073532, 0.00049622,\n",
      "       0.00050301, 0.00047583, 0.00049512, 0.00050344, 0.0004922 ,\n",
      "       0.00049233, 0.00045746, 0.00049981, 0.00045146, 0.00049227,\n",
      "       0.00049514, 0.00045457, 0.00031207, 0.00049801, 0.00048872]), 'param_criterion': masked_array(data=['gini', 'gini', 'gini', 'gini', 'gini', 'gini', 'gini',\n",
      "                   'gini', 'gini', 'gini', 'gini', 'gini', 'gini', 'gini',\n",
      "                   'gini', 'gini', 'gini', 'gini', 'gini', 'gini', 'gini',\n",
      "                   'gini', 'gini', 'gini', 'gini', 'gini', 'gini', 'gini',\n",
      "                   'gini', 'gini', 'gini', 'gini', 'gini', 'gini', 'gini',\n",
      "                   'gini', 'gini', 'gini', 'gini', 'gini', 'gini', 'gini',\n",
      "                   'gini', 'gini', 'gini', 'gini', 'gini', 'gini', 'gini',\n",
      "                   'gini', 'gini', 'gini', 'gini', 'gini', 'gini', 'gini',\n",
      "                   'gini', 'gini', 'gini', 'gini'],\n",
      "             mask=[False, False, False, False, False, False, False, False,\n",
      "                   False, False, False, False, False, False, False, False,\n",
      "                   False, False, False, False, False, False, False, False,\n",
      "                   False, False, False, False, False, False, False, False,\n",
      "                   False, False, False, False, False, False, False, False,\n",
      "                   False, False, False, False, False, False, False, False,\n",
      "                   False, False, False, False, False, False, False, False,\n",
      "                   False, False, False, False],\n",
      "       fill_value='?',\n",
      "            dtype=object), 'param_max_depth': masked_array(data=[1, 1, 1, 1, 2, 2, 2, 2, 3, 3, 3, 3, 4, 4, 4, 4, 5, 5,\n",
      "                   5, 5, 6, 6, 6, 6, 7, 7, 7, 7, 8, 8, 8, 8, 9, 9, 9, 9,\n",
      "                   10, 10, 10, 10, 11, 11, 11, 11, 12, 12, 12, 12, 13, 13,\n",
      "                   13, 13, 14, 14, 14, 14, 15, 15, 15, 15],\n",
      "             mask=[False, False, False, False, False, False, False, False,\n",
      "                   False, False, False, False, False, False, False, False,\n",
      "                   False, False, False, False, False, False, False, False,\n",
      "                   False, False, False, False, False, False, False, False,\n",
      "                   False, False, False, False, False, False, False, False,\n",
      "                   False, False, False, False, False, False, False, False,\n",
      "                   False, False, False, False, False, False, False, False,\n",
      "                   False, False, False, False],\n",
      "       fill_value='?',\n",
      "            dtype=object), 'param_min_samples_leaf': masked_array(data=[5, 10, 15, 20, 5, 10, 15, 20, 5, 10, 15, 20, 5, 10, 15,\n",
      "                   20, 5, 10, 15, 20, 5, 10, 15, 20, 5, 10, 15, 20, 5, 10,\n",
      "                   15, 20, 5, 10, 15, 20, 5, 10, 15, 20, 5, 10, 15, 20, 5,\n",
      "                   10, 15, 20, 5, 10, 15, 20, 5, 10, 15, 20, 5, 10, 15,\n",
      "                   20],\n",
      "             mask=[False, False, False, False, False, False, False, False,\n",
      "                   False, False, False, False, False, False, False, False,\n",
      "                   False, False, False, False, False, False, False, False,\n",
      "                   False, False, False, False, False, False, False, False,\n",
      "                   False, False, False, False, False, False, False, False,\n",
      "                   False, False, False, False, False, False, False, False,\n",
      "                   False, False, False, False, False, False, False, False,\n",
      "                   False, False, False, False],\n",
      "       fill_value='?',\n",
      "            dtype=object), 'params': [{'criterion': 'gini', 'max_depth': 1, 'min_samples_leaf': 5}, {'criterion': 'gini', 'max_depth': 1, 'min_samples_leaf': 10}, {'criterion': 'gini', 'max_depth': 1, 'min_samples_leaf': 15}, {'criterion': 'gini', 'max_depth': 1, 'min_samples_leaf': 20}, {'criterion': 'gini', 'max_depth': 2, 'min_samples_leaf': 5}, {'criterion': 'gini', 'max_depth': 2, 'min_samples_leaf': 10}, {'criterion': 'gini', 'max_depth': 2, 'min_samples_leaf': 15}, {'criterion': 'gini', 'max_depth': 2, 'min_samples_leaf': 20}, {'criterion': 'gini', 'max_depth': 3, 'min_samples_leaf': 5}, {'criterion': 'gini', 'max_depth': 3, 'min_samples_leaf': 10}, {'criterion': 'gini', 'max_depth': 3, 'min_samples_leaf': 15}, {'criterion': 'gini', 'max_depth': 3, 'min_samples_leaf': 20}, {'criterion': 'gini', 'max_depth': 4, 'min_samples_leaf': 5}, {'criterion': 'gini', 'max_depth': 4, 'min_samples_leaf': 10}, {'criterion': 'gini', 'max_depth': 4, 'min_samples_leaf': 15}, {'criterion': 'gini', 'max_depth': 4, 'min_samples_leaf': 20}, {'criterion': 'gini', 'max_depth': 5, 'min_samples_leaf': 5}, {'criterion': 'gini', 'max_depth': 5, 'min_samples_leaf': 10}, {'criterion': 'gini', 'max_depth': 5, 'min_samples_leaf': 15}, {'criterion': 'gini', 'max_depth': 5, 'min_samples_leaf': 20}, {'criterion': 'gini', 'max_depth': 6, 'min_samples_leaf': 5}, {'criterion': 'gini', 'max_depth': 6, 'min_samples_leaf': 10}, {'criterion': 'gini', 'max_depth': 6, 'min_samples_leaf': 15}, {'criterion': 'gini', 'max_depth': 6, 'min_samples_leaf': 20}, {'criterion': 'gini', 'max_depth': 7, 'min_samples_leaf': 5}, {'criterion': 'gini', 'max_depth': 7, 'min_samples_leaf': 10}, {'criterion': 'gini', 'max_depth': 7, 'min_samples_leaf': 15}, {'criterion': 'gini', 'max_depth': 7, 'min_samples_leaf': 20}, {'criterion': 'gini', 'max_depth': 8, 'min_samples_leaf': 5}, {'criterion': 'gini', 'max_depth': 8, 'min_samples_leaf': 10}, {'criterion': 'gini', 'max_depth': 8, 'min_samples_leaf': 15}, {'criterion': 'gini', 'max_depth': 8, 'min_samples_leaf': 20}, {'criterion': 'gini', 'max_depth': 9, 'min_samples_leaf': 5}, {'criterion': 'gini', 'max_depth': 9, 'min_samples_leaf': 10}, {'criterion': 'gini', 'max_depth': 9, 'min_samples_leaf': 15}, {'criterion': 'gini', 'max_depth': 9, 'min_samples_leaf': 20}, {'criterion': 'gini', 'max_depth': 10, 'min_samples_leaf': 5}, {'criterion': 'gini', 'max_depth': 10, 'min_samples_leaf': 10}, {'criterion': 'gini', 'max_depth': 10, 'min_samples_leaf': 15}, {'criterion': 'gini', 'max_depth': 10, 'min_samples_leaf': 20}, {'criterion': 'gini', 'max_depth': 11, 'min_samples_leaf': 5}, {'criterion': 'gini', 'max_depth': 11, 'min_samples_leaf': 10}, {'criterion': 'gini', 'max_depth': 11, 'min_samples_leaf': 15}, {'criterion': 'gini', 'max_depth': 11, 'min_samples_leaf': 20}, {'criterion': 'gini', 'max_depth': 12, 'min_samples_leaf': 5}, {'criterion': 'gini', 'max_depth': 12, 'min_samples_leaf': 10}, {'criterion': 'gini', 'max_depth': 12, 'min_samples_leaf': 15}, {'criterion': 'gini', 'max_depth': 12, 'min_samples_leaf': 20}, {'criterion': 'gini', 'max_depth': 13, 'min_samples_leaf': 5}, {'criterion': 'gini', 'max_depth': 13, 'min_samples_leaf': 10}, {'criterion': 'gini', 'max_depth': 13, 'min_samples_leaf': 15}, {'criterion': 'gini', 'max_depth': 13, 'min_samples_leaf': 20}, {'criterion': 'gini', 'max_depth': 14, 'min_samples_leaf': 5}, {'criterion': 'gini', 'max_depth': 14, 'min_samples_leaf': 10}, {'criterion': 'gini', 'max_depth': 14, 'min_samples_leaf': 15}, {'criterion': 'gini', 'max_depth': 14, 'min_samples_leaf': 20}, {'criterion': 'gini', 'max_depth': 15, 'min_samples_leaf': 5}, {'criterion': 'gini', 'max_depth': 15, 'min_samples_leaf': 10}, {'criterion': 'gini', 'max_depth': 15, 'min_samples_leaf': 15}, {'criterion': 'gini', 'max_depth': 15, 'min_samples_leaf': 20}], 'split0_test_score': array([0.75977654, 0.75977654, 0.75977654, 0.75977654, 0.75977654,\n",
      "       0.75977654, 0.75977654, 0.75977654, 0.77094972, 0.77094972,\n",
      "       0.77374302, 0.77374302, 0.81564246, 0.81564246, 0.81284916,\n",
      "       0.80167598, 0.79888268, 0.80167598, 0.79888268, 0.79888268,\n",
      "       0.79608939, 0.79050279, 0.79050279, 0.79050279, 0.81284916,\n",
      "       0.80167598, 0.7877095 , 0.79888268, 0.81005587, 0.80167598,\n",
      "       0.7877095 , 0.79050279, 0.80726257, 0.79888268, 0.7877095 ,\n",
      "       0.79050279, 0.81564246, 0.79050279, 0.79050279, 0.79050279,\n",
      "       0.81564246, 0.80726257, 0.79608939, 0.79888268, 0.79888268,\n",
      "       0.81564246, 0.79050279, 0.79608939, 0.79329609, 0.79888268,\n",
      "       0.7877095 , 0.80167598, 0.79050279, 0.81005587, 0.77653631,\n",
      "       0.80167598, 0.79329609, 0.80726257, 0.77653631, 0.80167598]), 'split1_test_score': array([0.73184358, 0.73184358, 0.73184358, 0.73184358, 0.73184358,\n",
      "       0.73184358, 0.73184358, 0.73184358, 0.76536313, 0.76536313,\n",
      "       0.76536313, 0.76536313, 0.78212291, 0.7849162 , 0.77932961,\n",
      "       0.77094972, 0.77374302, 0.77653631, 0.76256983, 0.76256983,\n",
      "       0.7877095 , 0.77653631, 0.77653631, 0.77653631, 0.77932961,\n",
      "       0.77653631, 0.77653631, 0.77653631, 0.77374302, 0.77374302,\n",
      "       0.77094972, 0.77653631, 0.76815642, 0.77094972, 0.76815642,\n",
      "       0.77374302, 0.77094972, 0.77094972, 0.76815642, 0.77374302,\n",
      "       0.76815642, 0.77374302, 0.77094972, 0.7877095 , 0.76815642,\n",
      "       0.78212291, 0.79050279, 0.77932961, 0.77374302, 0.75698324,\n",
      "       0.77932961, 0.77932961, 0.78212291, 0.77094972, 0.77932961,\n",
      "       0.77932961, 0.7849162 , 0.76536313, 0.77932961, 0.77932961]), 'split2_test_score': array([0.73184358, 0.73184358, 0.73184358, 0.73184358, 0.73184358,\n",
      "       0.73184358, 0.73184358, 0.73184358, 0.74860335, 0.74860335,\n",
      "       0.74581006, 0.74581006, 0.7877095 , 0.7849162 , 0.78212291,\n",
      "       0.78212291, 0.79329609, 0.7849162 , 0.7849162 , 0.7877095 ,\n",
      "       0.79329609, 0.78212291, 0.79329609, 0.79608939, 0.81564246,\n",
      "       0.81564246, 0.81843575, 0.82122905, 0.80167598, 0.81284916,\n",
      "       0.81843575, 0.82122905, 0.81284916, 0.82122905, 0.81843575,\n",
      "       0.82960894, 0.80726257, 0.81284916, 0.80167598, 0.82122905,\n",
      "       0.79608939, 0.81564246, 0.80726257, 0.82960894, 0.80167598,\n",
      "       0.81843575, 0.81005587, 0.82960894, 0.80446927, 0.81564246,\n",
      "       0.81284916, 0.82960894, 0.80726257, 0.82122905, 0.82122905,\n",
      "       0.83240223, 0.79888268, 0.80167598, 0.81284916, 0.83240223]), 'split3_test_score': array([0.76256983, 0.76256983, 0.76256983, 0.76256983, 0.76256983,\n",
      "       0.76256983, 0.76256983, 0.76256983, 0.73743017, 0.73743017,\n",
      "       0.73184358, 0.73184358, 0.79608939, 0.79608939, 0.79329609,\n",
      "       0.79329609, 0.79050279, 0.79608939, 0.79050279, 0.79050279,\n",
      "       0.78212291, 0.77932961, 0.77653631, 0.77374302, 0.81005587,\n",
      "       0.81284916, 0.81284916, 0.80726257, 0.80726257, 0.80446927,\n",
      "       0.81564246, 0.80726257, 0.80167598, 0.80446927, 0.81564246,\n",
      "       0.80726257, 0.79608939, 0.80167598, 0.80726257, 0.80446927,\n",
      "       0.80446927, 0.80446927, 0.81005587, 0.80167598, 0.81564246,\n",
      "       0.80446927, 0.80726257, 0.79608939, 0.81005587, 0.81005587,\n",
      "       0.81564246, 0.79608939, 0.82122905, 0.81843575, 0.80726257,\n",
      "       0.79329609, 0.81005587, 0.81843575, 0.80726257, 0.79329609]), 'split4_test_score': array([0.75418994, 0.75418994, 0.75418994, 0.75418994, 0.75418994,\n",
      "       0.75418994, 0.75418994, 0.75418994, 0.7849162 , 0.7849162 ,\n",
      "       0.7849162 , 0.7849162 , 0.79050279, 0.79050279, 0.7877095 ,\n",
      "       0.7877095 , 0.79329609, 0.79329609, 0.79329609, 0.79329609,\n",
      "       0.81284916, 0.82122905, 0.81564246, 0.81284916, 0.83240223,\n",
      "       0.83798883, 0.83240223, 0.82681564, 0.83240223, 0.82960894,\n",
      "       0.82960894, 0.82681564, 0.84357542, 0.83798883, 0.83240223,\n",
      "       0.82960894, 0.82960894, 0.82960894, 0.82122905, 0.81843575,\n",
      "       0.82960894, 0.83240223, 0.82960894, 0.82960894, 0.82960894,\n",
      "       0.82681564, 0.83519553, 0.82681564, 0.80726257, 0.83240223,\n",
      "       0.82960894, 0.82402235, 0.81005587, 0.82681564, 0.82681564,\n",
      "       0.82122905, 0.80446927, 0.82122905, 0.82960894, 0.81843575]), 'split5_test_score': array([0.73743017, 0.73743017, 0.73743017, 0.73743017, 0.73743017,\n",
      "       0.73743017, 0.73743017, 0.73743017, 0.73743017, 0.73743017,\n",
      "       0.72905028, 0.72905028, 0.7877095 , 0.79050279, 0.7877095 ,\n",
      "       0.77932961, 0.79050279, 0.7877095 , 0.7849162 , 0.78212291,\n",
      "       0.77653631, 0.78212291, 0.77653631, 0.77094972, 0.78212291,\n",
      "       0.78212291, 0.77653631, 0.77094972, 0.82681564, 0.82681564,\n",
      "       0.82122905, 0.81564246, 0.81843575, 0.82960894, 0.81843575,\n",
      "       0.81564246, 0.81564246, 0.82402235, 0.81284916, 0.81284916,\n",
      "       0.82122905, 0.82681564, 0.82122905, 0.80446927, 0.81564246,\n",
      "       0.83519553, 0.82122905, 0.81005587, 0.82960894, 0.83519553,\n",
      "       0.81564246, 0.82122905, 0.82681564, 0.81843575, 0.81564246,\n",
      "       0.79608939, 0.83240223, 0.82402235, 0.81005587, 0.78212291]), 'split6_test_score': array([0.74022346, 0.74022346, 0.74022346, 0.74022346, 0.74022346,\n",
      "       0.74022346, 0.74022346, 0.74022346, 0.72905028, 0.72905028,\n",
      "       0.72625698, 0.72625698, 0.77374302, 0.76815642, 0.76256983,\n",
      "       0.75977654, 0.78212291, 0.77653631, 0.77094972, 0.76815642,\n",
      "       0.77932961, 0.78212291, 0.77653631, 0.77374302, 0.77653631,\n",
      "       0.77374302, 0.76815642, 0.76536313, 0.79888268, 0.77653631,\n",
      "       0.76536313, 0.77653631, 0.79608939, 0.77932961, 0.76536313,\n",
      "       0.77653631, 0.79050279, 0.77374302, 0.76256983, 0.77374302,\n",
      "       0.79888268, 0.78212291, 0.77374302, 0.7849162 , 0.81005587,\n",
      "       0.7877095 , 0.78212291, 0.79329609, 0.80726257, 0.79050279,\n",
      "       0.7849162 , 0.79050279, 0.79888268, 0.77653631, 0.77374302,\n",
      "       0.77374302, 0.78212291, 0.77374302, 0.77374302, 0.76815642]), 'split7_test_score': array([0.72829132, 0.72829132, 0.72829132, 0.72829132, 0.72829132,\n",
      "       0.72829132, 0.72829132, 0.72829132, 0.75630252, 0.75630252,\n",
      "       0.75910364, 0.75910364, 0.77591036, 0.77591036, 0.767507  ,\n",
      "       0.767507  , 0.76190476, 0.767507  , 0.78431373, 0.76470588,\n",
      "       0.77591036, 0.77591036, 0.78431373, 0.76470588, 0.78151261,\n",
      "       0.78431373, 0.78151261, 0.77310924, 0.78151261, 0.78151261,\n",
      "       0.78151261, 0.77310924, 0.78431373, 0.78711485, 0.78711485,\n",
      "       0.77871148, 0.78431373, 0.78711485, 0.78711485, 0.77871148,\n",
      "       0.77871148, 0.78431373, 0.79831933, 0.80672269, 0.79271709,\n",
      "       0.79831933, 0.79831933, 0.80112045, 0.77591036, 0.81512605,\n",
      "       0.79551821, 0.79831933, 0.79271709, 0.78431373, 0.78991597,\n",
      "       0.78151261, 0.78991597, 0.79551821, 0.79271709, 0.78151261]), 'split8_test_score': array([0.72268908, 0.72268908, 0.72268908, 0.72268908, 0.72268908,\n",
      "       0.72268908, 0.72268908, 0.72268908, 0.78991597, 0.78991597,\n",
      "       0.78431373, 0.78431373, 0.74509804, 0.74509804, 0.7394958 ,\n",
      "       0.7394958 , 0.7535014 , 0.7535014 , 0.74509804, 0.74789916,\n",
      "       0.80952381, 0.81792717, 0.80112045, 0.80392157, 0.79271709,\n",
      "       0.80672269, 0.78991597, 0.79271709, 0.79551821, 0.81792717,\n",
      "       0.80112045, 0.80392157, 0.79551821, 0.81512605, 0.80112045,\n",
      "       0.80392157, 0.79831933, 0.81512605, 0.80112045, 0.80392157,\n",
      "       0.77030812, 0.79831933, 0.78431373, 0.78711485, 0.767507  ,\n",
      "       0.79551821, 0.78151261, 0.78431373, 0.75630252, 0.80392157,\n",
      "       0.78991597, 0.78711485, 0.7535014 , 0.80392157, 0.78991597,\n",
      "       0.78991597, 0.75910364, 0.81232493, 0.79831933, 0.78711485]), 'split9_test_score': array([0.7254902 , 0.7254902 , 0.7254902 , 0.7254902 , 0.7254902 ,\n",
      "       0.7254902 , 0.7254902 , 0.7254902 , 0.77310924, 0.77310924,\n",
      "       0.76190476, 0.76190476, 0.78151261, 0.78151261, 0.76190476,\n",
      "       0.77030812, 0.77871148, 0.77591036, 0.75630252, 0.76190476,\n",
      "       0.79551821, 0.79551821, 0.77871148, 0.78151261, 0.79551821,\n",
      "       0.79831933, 0.78151261, 0.78431373, 0.79271709, 0.79551821,\n",
      "       0.77871148, 0.78431373, 0.78151261, 0.78991597, 0.767507  ,\n",
      "       0.77030812, 0.78431373, 0.80392157, 0.78991597, 0.79551821,\n",
      "       0.79831933, 0.80672269, 0.77871148, 0.78711485, 0.767507  ,\n",
      "       0.80672269, 0.77871148, 0.78991597, 0.78991597, 0.81792717,\n",
      "       0.77591036, 0.78991597, 0.77871148, 0.80392157, 0.77310924,\n",
      "       0.79271709, 0.78711485, 0.81232493, 0.77030812, 0.79271709]), 'mean_test_score': array([0.73943477, 0.73943477, 0.73943477, 0.73943477, 0.73943477,\n",
      "       0.73943477, 0.73943477, 0.73943477, 0.75930707, 0.75930707,\n",
      "       0.75623054, 0.75623054, 0.78360406, 0.78332473, 0.77744942,\n",
      "       0.77521713, 0.7816464 , 0.78136785, 0.77717478, 0.775775  ,\n",
      "       0.79088853, 0.79033222, 0.78697323, 0.78445535, 0.79786864,\n",
      "       0.79899144, 0.79255669, 0.79171792, 0.80205859, 0.80206563,\n",
      "       0.79702831, 0.79758697, 0.80093892, 0.8034615 , 0.79618875,\n",
      "       0.79758462, 0.79926451, 0.80095144, 0.79423971, 0.79731233,\n",
      "       0.79814171, 0.80318138, 0.79702831, 0.80178239, 0.79673959,\n",
      "       0.80709513, 0.79954149, 0.80066351, 0.79478272, 0.80766396,\n",
      "       0.79870429, 0.80178082, 0.79618015, 0.8034615 , 0.79534998,\n",
      "       0.7961911 , 0.79422797, 0.80318999, 0.795073  , 0.79367635]), 'std_test_score': array([0.01373198, 0.01373198, 0.01373198, 0.01373198, 0.01373198,\n",
      "       0.01373198, 0.01373198, 0.01373198, 0.01987895, 0.01987895,\n",
      "       0.02093458, 0.02093458, 0.01705684, 0.01750743, 0.01934565,\n",
      "       0.01692265, 0.01406616, 0.01367248, 0.01672188, 0.01601556,\n",
      "       0.01238832, 0.01569896, 0.01259187, 0.01493448, 0.01796579,\n",
      "       0.01923335, 0.02013025, 0.02038187, 0.01728834, 0.01914213,\n",
      "       0.02194207, 0.01893355, 0.02021823, 0.02107039, 0.02327434,\n",
      "       0.02161672, 0.01690488, 0.01909547, 0.01764572, 0.01691482,\n",
      "       0.01981332, 0.0181336 , 0.01908833, 0.01581603, 0.02131568,\n",
      "       0.01611734, 0.0177171 , 0.0159508 , 0.02038851, 0.02134132,\n",
      "       0.01738477, 0.01636712, 0.02063274, 0.01871386, 0.01960786,\n",
      "       0.01741192, 0.01836128, 0.01880014, 0.01886164, 0.01832858]), 'rank_test_score': array([53, 53, 53, 53, 53, 53, 53, 53, 49, 49, 51, 51, 41, 42, 45, 48, 43,\n",
      "       44, 46, 47, 37, 38, 39, 40, 19, 16, 35, 36,  8,  7, 23, 20, 12,  3,\n",
      "       27, 21, 15, 11, 32, 22, 18,  6, 23,  9, 25,  2, 14, 13, 31,  1, 17,\n",
      "       10, 28,  4, 29, 26, 33,  5, 30, 34]), 'split0_train_score': array([0.73718546, 0.73718546, 0.73718546, 0.73718546, 0.73718546,\n",
      "       0.73718546, 0.73718546, 0.73718546, 0.75831003, 0.75831003,\n",
      "       0.75427151, 0.75427151, 0.78316247, 0.78223051, 0.7788133 ,\n",
      "       0.77757067, 0.78937558, 0.78626903, 0.78316247, 0.78098788,\n",
      "       0.80428705, 0.7990059 , 0.79310345, 0.79092886, 0.82510096,\n",
      "       0.81547064, 0.81050016, 0.80615098, 0.83504194, 0.82385834,\n",
      "       0.81950916, 0.81547064, 0.83690587, 0.824169  , 0.81950916,\n",
      "       0.81547064, 0.84498291, 0.82882883, 0.82603293, 0.82044113,\n",
      "       0.85150668, 0.83535259, 0.83069276, 0.82572227, 0.85865176,\n",
      "       0.84218701, 0.83628456, 0.83038211, 0.86362224, 0.8443616 ,\n",
      "       0.83939112, 0.83410997, 0.87200994, 0.84964275, 0.84094439,\n",
      "       0.83410997, 0.87604846, 0.85305996, 0.84094439, 0.83410997]), 'split1_train_score': array([0.74029202, 0.74029202, 0.74029202, 0.74029202, 0.74029202,\n",
      "       0.74029202, 0.74029202, 0.74029202, 0.75893135, 0.75893135,\n",
      "       0.75520348, 0.75520348, 0.78657968, 0.78564772, 0.78098788,\n",
      "       0.78036657, 0.79403541, 0.7906182 , 0.78875427, 0.78595837,\n",
      "       0.80584032, 0.80211246, 0.79621   , 0.7934141 , 0.82882883,\n",
      "       0.81888785, 0.8129854 , 0.8101895 , 0.83255669, 0.82013048,\n",
      "       0.81360671, 0.8101895 , 0.84311898, 0.82913948, 0.82168375,\n",
      "       0.81826654, 0.84902144, 0.83224604, 0.82447965, 0.82106244,\n",
      "       0.85678782, 0.83690587, 0.82882883, 0.82541162, 0.86486486,\n",
      "       0.84280833, 0.83442063, 0.83069276, 0.87076732, 0.84746816,\n",
      "       0.83908046, 0.83255669, 0.87542715, 0.85057471, 0.83970177,\n",
      "       0.83317801, 0.87977633, 0.8527493 , 0.84032308, 0.83348866]), 'split2_train_score': array([0.74029202, 0.74029202, 0.74029202, 0.74029202, 0.74029202,\n",
      "       0.74029202, 0.74029202, 0.74029202, 0.76079528, 0.76079528,\n",
      "       0.75737807, 0.75737807, 0.78595837, 0.78502641, 0.78316247,\n",
      "       0.78036657, 0.79217148, 0.78906493, 0.78564772, 0.78223051,\n",
      "       0.80397639, 0.79962721, 0.79652066, 0.79248214, 0.82758621,\n",
      "       0.81547064, 0.81050016, 0.80646163, 0.83659522, 0.82168375,\n",
      "       0.81609195, 0.81205343, 0.84063374, 0.824169  , 0.81888785,\n",
      "       0.81453868, 0.84467226, 0.82541162, 0.82199441, 0.81702392,\n",
      "       0.85057471, 0.83038211, 0.83162473, 0.82665424, 0.86020503,\n",
      "       0.83721653, 0.83348866, 0.82851817, 0.8695247 , 0.8443616 ,\n",
      "       0.83721653, 0.83162473, 0.87263125, 0.84653619, 0.84063374,\n",
      "       0.83504194, 0.87635912, 0.85181733, 0.84280833, 0.83504194]), 'split3_train_score': array([0.73687481, 0.73687481, 0.73687481, 0.73687481, 0.73687481,\n",
      "       0.73687481, 0.73687481, 0.73687481, 0.7620379 , 0.7620379 ,\n",
      "       0.75893135, 0.75893135, 0.78533706, 0.78440509, 0.78036657,\n",
      "       0.78036657, 0.78999689, 0.78689034, 0.78347313, 0.78347313,\n",
      "       0.80646163, 0.80211246, 0.79465673, 0.79434607, 0.82479031,\n",
      "       0.81547064, 0.80863622, 0.8073936 , 0.83410997, 0.82385834,\n",
      "       0.81515999, 0.81422802, 0.8387698 , 0.824169  , 0.81515999,\n",
      "       0.81422802, 0.84125505, 0.82479031, 0.81981982, 0.81888785,\n",
      "       0.84902144, 0.83193538, 0.8269649 , 0.82510096, 0.85803044,\n",
      "       0.83473128, 0.82882883, 0.82913948, 0.86548618, 0.84311898,\n",
      "       0.83162473, 0.83100342, 0.87076732, 0.84622554, 0.83379932,\n",
      "       0.83100342, 0.87294191, 0.85119602, 0.83442063, 0.83100342]), 'split4_train_score': array([0.73780677, 0.73780677, 0.73780677, 0.73780677, 0.73780677,\n",
      "       0.73780677, 0.73780677, 0.73780677, 0.75675676, 0.75675676,\n",
      "       0.75302889, 0.75302889, 0.78564772, 0.78502641, 0.78254116,\n",
      "       0.78191985, 0.78937558, 0.78999689, 0.78440509, 0.78378378,\n",
      "       0.8018018 , 0.79993787, 0.79372476, 0.79248214, 0.8213731 ,\n",
      "       0.81515999, 0.80863622, 0.80832557, 0.82572227, 0.81764523,\n",
      "       0.80956819, 0.80832557, 0.83442063, 0.82323703, 0.81702392,\n",
      "       0.8157813 , 0.83721653, 0.82354769, 0.81919851, 0.81795589,\n",
      "       0.84808947, 0.83286735, 0.82354769, 0.82323703, 0.85585586,\n",
      "       0.83752718, 0.83007145, 0.82758621, 0.86051569, 0.84063374,\n",
      "       0.83162473, 0.82945014, 0.8639329 , 0.84498291, 0.83504194,\n",
      "       0.83038211, 0.87169929, 0.85026406, 0.83690587, 0.83100342]), 'split5_train_score': array([0.73967071, 0.73967071, 0.73967071, 0.73967071, 0.73967071,\n",
      "       0.73967071, 0.73967071, 0.73967071, 0.7620379 , 0.7620379 ,\n",
      "       0.759242  , 0.759242  , 0.78595837, 0.78471575, 0.78254116,\n",
      "       0.77974526, 0.79248214, 0.78751165, 0.78564772, 0.78533706,\n",
      "       0.8045977 , 0.80428705, 0.79838459, 0.79558869, 0.81236409,\n",
      "       0.8045977 , 0.79838459, 0.79683131, 0.83286735, 0.82199441,\n",
      "       0.8157813 , 0.81422802, 0.83535259, 0.82323703, 0.81640261,\n",
      "       0.81422802, 0.84498291, 0.83100342, 0.824169  , 0.82168375,\n",
      "       0.8499534 , 0.83442063, 0.82789686, 0.82634358, 0.85771979,\n",
      "       0.84001243, 0.83286735, 0.8297608 , 0.86517552, 0.84342964,\n",
      "       0.83504194, 0.83224604, 0.86610749, 0.84746816, 0.83659522,\n",
      "       0.83659522, 0.87107797, 0.84840012, 0.83752718, 0.84001243]), 'split6_train_score': array([0.73936005, 0.73936005, 0.73936005, 0.73936005, 0.73936005,\n",
      "       0.73936005, 0.73936005, 0.73936005, 0.7620379 , 0.7620379 ,\n",
      "       0.75955266, 0.75955266, 0.78751165, 0.78657968, 0.78502641,\n",
      "       0.78378378, 0.79155017, 0.78968624, 0.78657968, 0.78533706,\n",
      "       0.80677229, 0.80149115, 0.79776328, 0.79589935, 0.8213731 ,\n",
      "       0.81360671, 0.8101895 , 0.80832557, 0.83814849, 0.82945014,\n",
      "       0.82168375, 0.81950916, 0.84218701, 0.83007145, 0.82168375,\n",
      "       0.81950916, 0.84342964, 0.83224604, 0.82261572, 0.82044113,\n",
      "       0.85243865, 0.8415657 , 0.82945014, 0.82727555, 0.85927307,\n",
      "       0.84622554, 0.83442063, 0.83224604, 0.86828208, 0.85057471,\n",
      "       0.8387698 , 0.83410997, 0.87263125, 0.85492389, 0.84187636,\n",
      "       0.8387698 , 0.87449518, 0.85647717, 0.84591488, 0.84001243]), 'split7_train_score': array([0.74068323, 0.74068323, 0.74068323, 0.74068323, 0.74068323,\n",
      "       0.74068323, 0.74068323, 0.74068323, 0.75962733, 0.75962733,\n",
      "       0.75590062, 0.75590062, 0.78757764, 0.7863354 , 0.78012422,\n",
      "       0.78012422, 0.79192547, 0.79006211, 0.78664596, 0.78354037,\n",
      "       0.80652174, 0.80310559, 0.79720497, 0.79347826, 0.82888199,\n",
      "       0.8189441 , 0.8136646 , 0.80931677, 0.8326087 , 0.82080745,\n",
      "       0.8136646 , 0.80931677, 0.84161491, 0.82670807, 0.81956522,\n",
      "       0.81521739, 0.84285714, 0.82670807, 0.81956522, 0.81521739,\n",
      "       0.84720497, 0.82888199, 0.82546584, 0.82236025, 0.85248447,\n",
      "       0.83198758, 0.82795031, 0.82763975, 0.85652174, 0.83944099,\n",
      "       0.83602484, 0.82826087, 0.8673913 , 0.84503106, 0.83881988,\n",
      "       0.83416149, 0.87267081, 0.84875776, 0.84006211, 0.8363354 ]), 'split8_train_score': array([0.74130435, 0.74130435, 0.74130435, 0.74130435, 0.74130435,\n",
      "       0.74130435, 0.74130435, 0.74130435, 0.75621118, 0.75621118,\n",
      "       0.75310559, 0.75310559, 0.79037267, 0.78944099, 0.7878882 ,\n",
      "       0.78757764, 0.79596273, 0.79130435, 0.79006211, 0.78913043,\n",
      "       0.80279503, 0.80031056, 0.79565217, 0.79254658, 0.8242236 ,\n",
      "       0.81459627, 0.80931677, 0.80621118, 0.83913043, 0.8242236 ,\n",
      "       0.8189441 , 0.81583851, 0.84503106, 0.82888199, 0.8189441 ,\n",
      "       0.81583851, 0.84720497, 0.82888199, 0.8189441 , 0.81583851,\n",
      "       0.85900621, 0.83944099, 0.82888199, 0.8257764 , 0.86242236,\n",
      "       0.84285714, 0.83229814, 0.8310559 , 0.8689441 , 0.84720497,\n",
      "       0.83664596, 0.83167702, 0.87236025, 0.84937888, 0.83881988,\n",
      "       0.83602484, 0.87546584, 0.85124224, 0.84068323, 0.83664596]), 'split9_train_score': array([0.74099379, 0.74099379, 0.74099379, 0.74099379, 0.74099379,\n",
      "       0.74099379, 0.74099379, 0.74099379, 0.75807453, 0.75807453,\n",
      "       0.75559006, 0.75559006, 0.78695652, 0.78602484, 0.78416149,\n",
      "       0.78291925, 0.79099379, 0.78913043, 0.78819876, 0.78664596,\n",
      "       0.80590062, 0.80279503, 0.7947205 , 0.79440994, 0.82701863,\n",
      "       0.81925466, 0.81118012, 0.81086957, 0.82888199, 0.82018634,\n",
      "       0.81273292, 0.81086957, 0.83975155, 0.82857143, 0.82298137,\n",
      "       0.82142857, 0.85217391, 0.8378882 , 0.82981366, 0.82763975,\n",
      "       0.85652174, 0.84006211, 0.83447205, 0.82795031, 0.86428571,\n",
      "       0.8431677 , 0.83447205, 0.83012422, 0.86956522, 0.84751553,\n",
      "       0.8378882 , 0.83012422, 0.8742236 , 0.85186335, 0.83850932,\n",
      "       0.8326087 , 0.87639752, 0.85465839, 0.84037267, 0.83291925]), 'mean_train_score': array([0.73944632, 0.73944632, 0.73944632, 0.73944632, 0.73944632,\n",
      "       0.73944632, 0.73944632, 0.73944632, 0.75948202, 0.75948202,\n",
      "       0.75622042, 0.75622042, 0.78650622, 0.78554328, 0.78256129,\n",
      "       0.78147404, 0.79178693, 0.78905342, 0.78625769, 0.78464246,\n",
      "       0.80489546, 0.80147853, 0.79579411, 0.79355761, 0.82415408,\n",
      "       0.81514592, 0.80939937, 0.80700757, 0.83356631, 0.82238381,\n",
      "       0.81567427, 0.81300292, 0.83977861, 0.82623535, 0.81918417,\n",
      "       0.81645068, 0.84477968, 0.82915522, 0.8226633 , 0.81961918,\n",
      "       0.85211051, 0.83518147, 0.82878258, 0.82558322, 0.85937934,\n",
      "       0.83987207, 0.83251026, 0.82971454, 0.86584048, 0.84481099,\n",
      "       0.83633083, 0.83151631, 0.87074825, 0.84866274, 0.83847418,\n",
      "       0.83418755, 0.87469324, 0.85186223, 0.83999624, 0.83505729]), 'std_train_score': array([0.00152569, 0.00152569, 0.00152569, 0.00152569, 0.00152569,\n",
      "       0.00152569, 0.00152569, 0.00152569, 0.00207669, 0.00207669,\n",
      "       0.00232687, 0.00232687, 0.00176639, 0.00175002, 0.00254273,\n",
      "       0.00261921, 0.00196626, 0.00156965, 0.00215033, 0.00222138,\n",
      "       0.00160653, 0.00162331, 0.0016513 , 0.00145705, 0.00469009,\n",
      "       0.00399453, 0.00399709, 0.00373119, 0.00386652, 0.00305211,\n",
      "       0.00340899, 0.00329084, 0.00325912, 0.00258117, 0.0023645 ,\n",
      "       0.00232963, 0.00392156, 0.00411665, 0.00334692, 0.00340194,\n",
      "       0.00382291, 0.00406096, 0.00295038, 0.00162491, 0.00359407,\n",
      "       0.00418667, 0.00258489, 0.00142747, 0.00433584, 0.0032371 ,\n",
      "       0.00268762, 0.00179373, 0.00352856, 0.00305277, 0.00247493,\n",
      "       0.00242978, 0.00251359, 0.00237373, 0.00302152, 0.00306694])}\n"
     ]
    }
   ],
   "source": [
    "params = {'criterion': ['gini'],\n",
    "          'max_depth': range(1, 16),\n",
    "          'min_samples_leaf': range(0, 25, 5)[1:]}\n",
    "\n",
    "cv_1 = GridSearchCV(param_grid=params, estimator=DecisionTreeClassifier(random_state=rs),return_train_score=True, cv=10)\n",
    "cv_1.fit(X_train, Y_train)\n",
    "\n",
    "result_set = cv_1.cv_results_\n",
    "print(result_set)\n"
   ]
  },
  {
   "cell_type": "code",
   "execution_count": 34,
   "metadata": {},
   "outputs": [
    {
     "name": "stdout",
     "output_type": "stream",
     "text": [
      "Total number of models:  60\n"
     ]
    }
   ],
   "source": [
    "import matplotlib.pyplot as plt\n",
    "\n",
    "train_result = result_set['split0_train_score']\n",
    "test_result = result_set['split0_test_score']\n",
    "print(\"Total number of models: \", len(test_result))"
   ]
  },
  {
   "cell_type": "code",
   "execution_count": 38,
   "metadata": {},
   "outputs": [
    {
     "data": {
      "image/png": "[encoded data removed]",
      "text/plain": [
       "<Figure size 432x288 with 1 Axes>"
      ]
     },
     "metadata": {
      "needs_background": "light"
     },
     "output_type": "display_data"
    }
   ],
   "source": [
    "plt.plot(range(0, len(train_result)), train_result, 'b', range(0,len(test_result)), test_result, 'r')\n",
    "plt.xlabel('Combination of hyperparameters\\nBlue = training acc. Red = test acc.')\n",
    "plt.ylabel('score')\n",
    "plt.show()"
   ]
  },
  {
   "cell_type": "code",
   "execution_count": 45,
   "metadata": {},
   "outputs": [
    {
     "data": {
      "image/png": "[encoded data removed]",
      "text/plain": [
       "<Figure size 432x288 with 1 Axes>"
      ]
     },
     "metadata": {
      "needs_background": "light"
     },
     "output_type": "display_data"
    }
   ],
   "source": [
    "result_set['params']\n",
    "dd = pd.DataFrame(result_set['params'])\n",
    "\n",
    "index_ = list(dd.index[(dd['criterion']=='gini') & (dd['min_samples_leaf']==5)])\n",
    "max_depth_train = []\n",
    "max_depth_test = []\n",
    "for i in range(0,len(index_)):\n",
    "    max_depth_train.append(train_result[index_[i]])\n",
    "    max_depth_test.append(test_result[index_[i]])\n",
    "plt.plot(range(1, len(max_depth_train)+1), max_depth_train, 'b', range(1,len(max_depth_test)+1), max_depth_test, 'r')\n",
    "plt.xlabel('Maximum depth (model complexity)\\nBlue = training acc. Red = test acc.')\n",
    "plt.ylabel('score')\n",
    "plt.xticks(np.arange(1, len(max_depth_train)+1, 1))\n",
    "plt.show()"
   ]
  },
  {
   "cell_type": "code",
   "execution_count": 46,
   "metadata": {},
   "outputs": [
    {
     "data": {
      "image/png": "[encoded data removed]",
      "text/plain": [
       "<Figure size 432x288 with 1 Axes>"
      ]
     },
     "metadata": {
      "needs_background": "light"
     },
     "output_type": "display_data"
    }
   ],
   "source": [
    "train_result = result_set['mean_train_score']\n",
    "test_result = result_set['mean_test_score']\n",
    "\n",
    "max_depth_train = []\n",
    "max_depth_test = []\n",
    "index_\n",
    "for i in range(len(index_)):\n",
    "    max_depth_train.append(train_result[index_[i]])\n",
    "    max_depth_test.append(test_result[index_[i]])\n",
    "plt.plot(range(1, len(max_depth_train)+1), max_depth_train, 'b', range(1,len(max_depth_test)+1), max_depth_test, 'r')\n",
    "plt.xlabel('Maximum depth (model complexity)\\nBlue = training acc. Red = test acc.')\n",
    "plt.xticks(np.arange(1, len(max_depth_train)+1, 1))\n",
    "plt.ylabel('score')\n",
    "plt.show()"
   ]
  },
  {
   "cell_type": "code",
   "execution_count": 47,
   "metadata": {},
   "outputs": [
    {
     "name": "stdout",
     "output_type": "stream",
     "text": [
      "Train accuracy: 0.8448420464076042\n",
      "Test accuracy: 0.8096479791395046\n"
     ]
    }
   ],
   "source": [
    "cv_1.fit(X_train, Y_train)\n",
    "\n",
    "print(\"Train accuracy:\", cv_1.score(X_train, Y_train))\n",
    "print(\"Test accuracy:\", cv_1.score(X_test, Y_test))"
   ]
  },
  {
   "cell_type": "code",
   "execution_count": 48,
   "metadata": {},
   "outputs": [
    {
     "name": "stdout",
     "output_type": "stream",
     "text": [
      "Probability produced by decision tree for each class vs actual prediction on TargetB (0 = non-donor, 1 = donor). You should be able to see the default threshold of 0.5.\n",
      "(Probs on zero)\t(probs on one)\t(prediction made)\n",
      "0.6111111111111112 \t 0.3888888888888889 \t False\n",
      "0.5806451612903226 \t 0.41935483870967744 \t True\n",
      "0.35 \t 0.65 \t True\n",
      "0.7272727272727273 \t 0.2727272727272727 \t False\n",
      "0.9856850715746421 \t 0.014314928425357873 \t False\n",
      "0.0 \t 1.0 \t True\n",
      "0.9430379746835443 \t 0.056962025316455694 \t False\n",
      "0.6923076923076923 \t 0.3076923076923077 \t False\n",
      "0.9523809523809523 \t 0.047619047619047616 \t False\n",
      "0.4 \t 0.6 \t True\n",
      "0.868421052631579 \t 0.13157894736842105 \t False\n",
      "0.0 \t 1.0 \t True\n",
      "0.9856850715746421 \t 0.014314928425357873 \t False\n",
      "0.9856850715746421 \t 0.014314928425357873 \t False\n",
      "0.9856850715746421 \t 0.014314928425357873 \t False\n",
      "0.07692307692307693 \t 0.9230769230769231 \t True\n",
      "0.9430379746835443 \t 0.056962025316455694 \t False\n",
      "0.9856850715746421 \t 0.014314928425357873 \t False\n",
      "0.75 \t 0.25 \t True\n",
      "0.0 \t 1.0 \t True\n"
     ]
    }
   ],
   "source": [
    "dt_cv_best = cv_1.best_estimator_\n",
    "# probability prediction from decision tree\n",
    "y_pred_proba_dt = dt_cv_best.predict_proba(X_test)\n",
    "\n",
    "print(\"Probability produced by decision tree for each class vs actual prediction on TargetB (0 = non-donor, 1 = donor). You should be able to see the default threshold of 0.5.\")\n",
    "print(\"(Probs on zero)\\t(probs on one)\\t(prediction made)\")\n",
    "# print top 10\n",
    "for i in range(20):\n",
    "    print(y_pred_proba_dt[i][0], '\\t', y_pred_proba_dt[i][1], '\\t', y_pred[i])"
   ]
  },
  {
   "cell_type": "code",
   "execution_count": 49,
   "metadata": {},
   "outputs": [
    {
     "name": "stdout",
     "output_type": "stream",
     "text": [
      "ROC index on test for DT_default: 0.7474883938901338\n",
      "ROC index on test for DT_small: 0.8198545025848307\n",
      "ROC index on test for DT_optimal: 0.8493704509175051\n"
     ]
    }
   ],
   "source": [
    "from sklearn.metrics import roc_auc_score\n",
    "\n",
    "y_pred_proba_dt = model.predict_proba(X_test)\n",
    "y_pred_proba_dt_small = model_small.predict_proba(X_test)\n",
    "y_pred_proba_dt_cv = dt_cv_best.predict_proba(X_test)\n",
    "\n",
    "roc_index_dt = roc_auc_score(Y_test, y_pred_proba_dt[:, 1])\n",
    "roc_index_dt_small = roc_auc_score(Y_test, y_pred_proba_dt_small[:, 1])\n",
    "roc_index_dt_cv = roc_auc_score(Y_test, y_pred_proba_dt_cv[:, 1])\n",
    "\n",
    "print(\"ROC index on test for DT_default:\", roc_index_dt)\n",
    "print(\"ROC index on test for DT_small:\", roc_index_dt_small)\n",
    "print(\"ROC index on test for DT_optimal:\", roc_index_dt_cv)"
   ]
  },
  {
   "cell_type": "code",
   "execution_count": null,
   "metadata": {},
   "outputs": [],
   "source": []
  }
 ],
 "metadata": {
  "kernelspec": {
   "display_name": "Python 3",
   "language": "python",
   "name": "python3"
  },
  "language_info": {
   "codemirror_mode": {
    "name": "ipython",
    "version": 3
   },
   "file_extension": ".py",
   "mimetype": "text/x-python",
   "name": "python",
   "nbconvert_exporter": "python",
   "pygments_lexer": "ipython3",
   "version": "3.7.6"
  }
 },
 "nbformat": 4,
 "nbformat_minor": 4
}
